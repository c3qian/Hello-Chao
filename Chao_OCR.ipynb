{
  "nbformat": 4,
  "nbformat_minor": 0,
  "metadata": {
    "colab": {
      "name": "Chao OCR.ipynb",
      "version": "0.3.2",
      "provenance": [],
      "collapsed_sections": [
        "9OHEzwXIvmCL",
        "YRYeN6RDuQdT"
      ],
      "include_colab_link": true
    },
    "language_info": {
      "codemirror_mode": {
        "name": "ipython",
        "version": 3
      },
      "file_extension": ".py",
      "mimetype": "text/x-python",
      "name": "python",
      "nbconvert_exporter": "python",
      "pygments_lexer": "ipython3",
      "version": "3.6.8"
    },
    "kernelspec": {
      "name": "python3",
      "display_name": "Python 3"
    },
    "accelerator": "GPU"
  },
  "cells": [
    {
      "cell_type": "markdown",
      "metadata": {
        "id": "view-in-github",
        "colab_type": "text"
      },
      "source": [
        "<a href=\"https://colab.research.google.com/github/c3qian/Hello-Chao/blob/master/Chao_OCR.ipynb\" target=\"_parent\"><img src=\"https://colab.research.google.com/assets/colab-badge.svg\" alt=\"Open In Colab\"/></a>"
      ]
    },
    {
      "cell_type": "markdown",
      "metadata": {
        "code_folding": [],
        "id": "XFfgMJlPuQcn",
        "colab_type": "text"
      },
      "source": [
        "# Convolutional Recurrent Neural Network (CRNN) for OCR\n"
      ]
    },
    {
      "cell_type": "markdown",
      "metadata": {
        "id": "9JgNYfx7uQcq",
        "colab_type": "text"
      },
      "source": [
        "Steps for OCR:\n",
        "\n",
        "1. Preprocessing Data\n",
        "2. Creating Network Architecture(CTC loss function)\n",
        "3. Training Model\n",
        "4. Test Model"
      ]
    },
    {
      "cell_type": "markdown",
      "metadata": {
        "id": "9OHEzwXIvmCL",
        "colab_type": "text"
      },
      "source": [
        "###Import"
      ]
    },
    {
      "cell_type": "code",
      "metadata": {
        "id": "hHgFIw1auQcr",
        "colab_type": "code",
        "colab": {
          "base_uri": "https://localhost:8080/",
          "height": 561
        },
        "outputId": "74594013-3d51-47ad-b4f0-fbb29426068e"
      },
      "source": [
        "import os\n",
        "import fnmatch\n",
        "import cv2\n",
        "import numpy as np\n",
        "import string\n",
        "import time\n",
        "\n",
        "from keras.preprocessing.sequence import pad_sequences\n",
        "\n",
        "from keras.layers import Dense, LSTM, Reshape, BatchNormalization, Input, Conv2D, MaxPool2D, Lambda, Bidirectional\n",
        "from keras.models import Model\n",
        "from keras.activations import relu, sigmoid, softmax\n",
        "import keras.backend as K\n",
        "from keras.utils import to_categorical\n",
        "from keras.callbacks import ModelCheckpoint\n",
        "import tensorflow as tf\n",
        "\n",
        "#ignore warnings in the output\n",
        "tf.logging.set_verbosity(tf.logging.ERROR)\n",
        "from tensorflow.python.client import device_lib\n",
        "\n",
        "# Check all available devices if GPU is available\n",
        "print(device_lib.list_local_devices())\n",
        "sess = tf.Session(config=tf.ConfigProto(log_device_placement=True))\n",
        "\n",
        "from glob import glob\n",
        " \n",
        "import matplotlib.pyplot as plt "
      ],
      "execution_count": 1,
      "outputs": [
        {
          "output_type": "stream",
          "text": [
            "Using TensorFlow backend.\n"
          ],
          "name": "stderr"
        },
        {
          "output_type": "stream",
          "text": [
            "[name: \"/device:CPU:0\"\n",
            "device_type: \"CPU\"\n",
            "memory_limit: 268435456\n",
            "locality {\n",
            "}\n",
            "incarnation: 3406356911365021906\n",
            ", name: \"/device:XLA_CPU:0\"\n",
            "device_type: \"XLA_CPU\"\n",
            "memory_limit: 17179869184\n",
            "locality {\n",
            "}\n",
            "incarnation: 11641911842688634676\n",
            "physical_device_desc: \"device: XLA_CPU device\"\n",
            ", name: \"/device:XLA_GPU:0\"\n",
            "device_type: \"XLA_GPU\"\n",
            "memory_limit: 17179869184\n",
            "locality {\n",
            "}\n",
            "incarnation: 3531102088120465099\n",
            "physical_device_desc: \"device: XLA_GPU device\"\n",
            ", name: \"/device:GPU:0\"\n",
            "device_type: \"GPU\"\n",
            "memory_limit: 11326753997\n",
            "locality {\n",
            "  bus_id: 1\n",
            "  links {\n",
            "  }\n",
            "}\n",
            "incarnation: 8831939635512936401\n",
            "physical_device_desc: \"device: 0, name: Tesla K80, pci bus id: 0000:00:04.0, compute capability: 3.7\"\n",
            "]\n"
          ],
          "name": "stdout"
        }
      ]
    },
    {
      "cell_type": "markdown",
      "metadata": {
        "id": "-cpr242KuQc3",
        "colab_type": "text"
      },
      "source": [
        "### Preprocessing"
      ]
    },
    {
      "cell_type": "markdown",
      "metadata": {
        "id": "N9JmCRIVuQc6",
        "colab_type": "text"
      },
      "source": [
        "1. Download and unzip the dataset into a folder\n",
        "2. Preprocess the data: both inputs and outputs\n",
        "\n",
        "Input:\n",
        "\n",
        "*   Read the images and convert them into gray-scale images(why?)\n",
        "*   Reshape each image to size (128,32) (why?)\n",
        "*   Expand the dimension of the image from (128,32) to (128,32,1) (why?)\n",
        "*   Normalize the image pixel values by dividing it with 255\n",
        "\n",
        "Output:\n",
        "\n",
        "*   Read the image file names as the labels of that image\n",
        "*   Encode word into digits using a map (‘a’:0, ‘b’:1 …….. ‘z’:26 ......) e.g.  \"aabb\" -> [0,0,1,1]\n",
        "*   Find the maximum length among all words and pad every label to be the same size(max size) \n",
        "\n"
      ]
    },
    {
      "cell_type": "code",
      "metadata": {
        "id": "xtJTiEllx815",
        "colab_type": "code",
        "colab": {
          "base_uri": "https://localhost:8080/",
          "height": 255
        },
        "outputId": "77e8a85b-a63b-4795-cd97-fd756eea7f53"
      },
      "source": [
        "!wget https://transfer.sh/ZHMV4/dataset.zip\n",
        "!unzip dataset.zip\n"
      ],
      "execution_count": 2,
      "outputs": [
        {
          "output_type": "stream",
          "text": [
            "--2019-07-13 15:56:00--  https://transfer.sh/ZHMV4/dataset.zip\n",
            "Resolving transfer.sh (transfer.sh)... 144.76.136.153\n",
            "Connecting to transfer.sh (transfer.sh)|144.76.136.153|:443... connected.\n",
            "HTTP request sent, awaiting response... 200 OK\n",
            "Length: 6534503 (6.2M) [application/zip]\n",
            "Saving to: ‘dataset.zip.2’\n",
            "\n",
            "dataset.zip.2       100%[===================>]   6.23M  2.60MB/s    in 2.4s    \n",
            "\n",
            "2019-07-13 15:56:07 (2.60 MB/s) - ‘dataset.zip.2’ saved [6534503/6534503]\n",
            "\n",
            "Archive:  dataset.zip\n",
            "replace dataset/.DS_Store? [y]es, [n]o, [A]ll, [N]one, [r]ename: n\n",
            "replace __MACOSX/dataset/._.DS_Store? [y]es, [n]o, [A]ll, [N]one, [r]ename: N\n"
          ],
          "name": "stdout"
        }
      ]
    },
    {
      "cell_type": "code",
      "metadata": {
        "id": "KEj3uYCW_Lre",
        "colab_type": "code",
        "colab": {
          "base_uri": "https://localhost:8080/",
          "height": 51
        },
        "outputId": "cac100c7-f313-41f5-db78-14c5defcca6d"
      },
      "source": [
        "# char_list:   'abcdefghijklmnopqrstuvwxyzABCDEFGHIJKLMNOPQRSTUVWXYZ0123456789'\n",
        "char_list = string.ascii_letters+string.digits\n",
        "print('char_list:',char_list)\n",
        "print('total length:', len(char_list))\n",
        " \n",
        "# every word is encoded as a list of digits\n",
        "# the digit for each character is represented by the index\n",
        "# e.g. aabb -> [0,0,1,1], index of a is 0, index of b is 1\n",
        "\n",
        "def encode_to_labels(txt):\n",
        "    # encoding each output word into digits\n",
        "    dig_lst = []\n",
        "    for i in txt:\n",
        "      dig_lst.append(char_list.index(i))\n",
        "    return dig_lst"
      ],
      "execution_count": 2,
      "outputs": [
        {
          "output_type": "stream",
          "text": [
            "char_list: abcdefghijklmnopqrstuvwxyzABCDEFGHIJKLMNOPQRSTUVWXYZ0123456789\n",
            "total length: 62\n"
          ],
          "name": "stdout"
        }
      ]
    },
    {
      "cell_type": "code",
      "metadata": {
        "id": "djKsVr35uQc8",
        "colab_type": "code",
        "colab": {}
      },
      "source": [
        "path = 'dataset/'\n",
        " \n",
        "#lists for training dataset\n",
        "train_x = []\n",
        "train_y = []\n",
        "train_x_len = []\n",
        "train_y_len = []\n",
        "orig_y = []\n",
        " \n",
        "#lists for validation dataset\n",
        "val_x = []\n",
        "val_y = []\n",
        "val_x_len = []\n",
        "val_y_len = []\n",
        "val_orig_y = []\n",
        " \n",
        "max_label_len = 0\n",
        " \n",
        "flag = 0\n",
        " \n",
        "for i, f_name in enumerate(glob(os.path.join(path,'*/*.jpg'))):\n",
        "    # read input image and convert into gray scale image\n",
        "    img = cv2.imread(f_name, 0)\n",
        "    #img = cv2.cvtColor(image, cv2.COLOR_BGR2GRAY)\n",
        "\n",
        "    # convert each image of shape (32, 128, 1)\n",
        "    # hint: cv2.resize, np.expand_dims\n",
        "    \n",
        "    \n",
        "    \n",
        "   \n",
        "    img = cv2.resize(img, (128,32))\n",
        "    img = np.expand_dims(img, axis =2) \n",
        "    # Normalize each image\n",
        "    img = img/255\n",
        "\n",
        "    # get the text from the image\n",
        "    txt = os.path.basename(f_name).split('_')[1]\n",
        "\n",
        "    # compute maximum length of the text\n",
        "    if len(txt) > max_label_len:\n",
        "        max_label_len = len(txt)\n",
        "\n",
        "\n",
        "    # split the data into validation and training dataset as 1:9\n",
        "    if np.random.rand() < 0.1:     \n",
        "        val_x.append(img)\n",
        "        val_y.append(encode_to_labels(txt))\n",
        "        val_x_len.append(31)\n",
        "        val_y_len.append(len(txt))\n",
        "        val_orig_y.append(txt)  \n",
        "    else:\n",
        "        train_x.append(img)\n",
        "        train_y.append(encode_to_labels(txt)) \n",
        "        train_x_len.append(31)\n",
        "        train_y_len.append(len(txt))\n",
        "        orig_y.append(txt)\n"
      ],
      "execution_count": 0,
      "outputs": []
    },
    {
      "cell_type": "code",
      "metadata": {
        "id": "BhqOzYAS5Jhp",
        "colab_type": "code",
        "outputId": "dad52127-0b9e-428f-9eb1-0e9754053208",
        "colab": {
          "base_uri": "https://localhost:8080/",
          "height": 220
        }
      },
      "source": [
        "# Check your preprocessing results\n",
        "print('Number of training data:',len(train_x))\n",
        "print('Number of validation data:',len(val_x))\n",
        "\n",
        "print(train_x[1].shape)\n",
        "plt.imshow(train_x[1][:,:,0], cmap='gray')\n",
        "print('Label value: ',train_y[1])\n",
        "print('Raw Label value: ', orig_y[1])"
      ],
      "execution_count": 6,
      "outputs": [
        {
          "output_type": "stream",
          "text": [
            "Number of training data: 2878\n",
            "Number of validation data: 323\n",
            "(32, 128, 1)\n",
            "Label value:  [27, 0, 11, 11, 14, 14, 13, 8, 18, 19, 18]\n",
            "Raw Label value:  Balloonists\n"
          ],
          "name": "stdout"
        },
        {
          "output_type": "display_data",
          "data": {
            "image/png": "[encoded data removed]",
            "text/plain": [
              "<Figure size 432x288 with 1 Axes>"
            ]
          },
          "metadata": {
            "tags": []
          }
        }
      ]
    },
    {
      "cell_type": "code",
      "metadata": {
        "id": "hwvHPaE4uQc_",
        "colab_type": "code",
        "colab": {}
      },
      "source": [
        "\n",
        "  \n",
        "# pad each output label to maximum text length\n",
        "# use \"post\" padding\n",
        "# this is not zero padding, we want to pad a specific value: len(char_list)\n",
        " \n",
        "train_padded_y = pad_sequences(train_y , maxlen = max_label_len,dtype = \"int32\",\n",
        "  padding = \"post\", value = len(char_list))\n",
        "val_padded_y = pad_sequences(val_y , maxlen = max_label_len,dtype = \"int32\",\n",
        "  padding = \"post\", value = len(char_list))"
      ],
      "execution_count": 0,
      "outputs": []
    },
    {
      "cell_type": "markdown",
      "metadata": {
        "id": "HpY-hAJ0uQdB",
        "colab_type": "text"
      },
      "source": [
        "### Network Archtecture"
      ]
    },
    {
      "cell_type": "markdown",
      "metadata": {
        "id": "DnqtDrhSuQdC",
        "colab_type": "text"
      },
      "source": [
        "Paper link: (https://arxiv.org/pdf/1507.05717.pdf)\n",
        "\n",
        "1. Input shape (32,128,1)\n",
        "2. Use CNN to produce feature map\n",
        "5. Make feature map compatible with LSTM layer.\n",
        "6. Use two Bidirectional LSTM layers each of which has 128 units. "
      ]
    },
    {
      "cell_type": "code",
      "metadata": {
        "id": "fYNY8LTFuQdD",
        "colab_type": "code",
        "colab": {}
      },
      "source": [
        "# input with shape of height=32 and width=128 \n",
        "inputs = Input(shape=(32,128,1), name='net_input')\n",
        " \n",
        "# Conv2D: 64 filters, (3,3) kernels, rectified unit, use \"same\" padding\n",
        "# Pooling: (2,2) size, stride 2\n",
        "conv_1 = Conv2D(64, (3,3), activation = 'relu', padding='same')(inputs)\n",
        "pool_1 = MaxPool2D(pool_size=(2, 2), strides=2)(conv_1)\n",
        " \n",
        "conv_2 = Conv2D(128, (3,3), activation = 'relu', padding='same')(pool_1)\n",
        "pool_2 = MaxPool2D(pool_size=(2, 2), strides=2)(conv_2)\n",
        " \n",
        "conv_3 = Conv2D(256, (3,3), activation = 'relu', padding='same')(pool_2)\n",
        " \n",
        "conv_4 = Conv2D(256, (3,3), activation = 'relu', padding='same')(conv_3)\n",
        "pool_4 = MaxPool2D(pool_size=(2, 1))(conv_4)\n",
        " \n",
        "conv_5 = Conv2D(512, (3,3), activation = 'relu', padding='same')(pool_4)\n",
        "# Batch normalization layer, \n",
        "# blog: https://towardsdatascience.com/batch-normalization-in-neural-networks-1ac91516821c\n",
        "batch_norm_5 = BatchNormalization()(conv_5)\n",
        " \n",
        "conv_6 = Conv2D(512, (3,3), activation = 'relu', padding='same')(batch_norm_5)\n",
        "batch_norm_6 = BatchNormalization()(conv_6)\n",
        "pool_6 = MaxPool2D(pool_size=(2, 1))(batch_norm_6)\n",
        " \n",
        "conv_7 = Conv2D(512, (2,2), activation = 'relu')(pool_6)\n",
        " \n",
        "# reduce the dimension\n",
        "squeezed = Lambda(lambda x: K.squeeze(x, 1))(conv_7)\n",
        " \n",
        "# bidirectional LSTM layers with units=128\n",
        "# we want to return sequences, not the last output\n",
        "# use dropout 0.2\n",
        "blstm_1 = Bidirectional(LSTM(128, return_sequences=True),input_shape=(32,128, 1))(squeezed)\n",
        "blstm_2 = Bidirectional(LSTM(128, return_sequences=True),input_shape=(32,128, 1))(blstm_1)\n",
        " \n",
        "# our final output has [len(char_list)+1] classes\n",
        "# we need to use softmax as the activation function\n",
        "num_classes = len(char_list)+1\n",
        "outputs = Dense(num_classes, activation='softmax')(blstm_2)\n",
        "\n",
        "\n",
        "# model to be used at test time\n",
        "act_model = Model(inputs, outputs)"
      ],
      "execution_count": 0,
      "outputs": []
    },
    {
      "cell_type": "code",
      "metadata": {
        "id": "y8o6GBZjuQdF",
        "colab_type": "code",
        "outputId": "fcb4af7b-4611-4ed7-877b-b68d77c61506",
        "colab": {
          "base_uri": "https://localhost:8080/",
          "height": 748
        }
      },
      "source": [
        "\n",
        "act_model.summary()"
      ],
      "execution_count": 23,
      "outputs": [
        {
          "output_type": "stream",
          "text": [
            "_________________________________________________________________\n",
            "Layer (type)                 Output Shape              Param #   \n",
            "=================================================================\n",
            "net_input (InputLayer)       (None, 32, 128, 1)        0         \n",
            "_________________________________________________________________\n",
            "conv2d_10 (Conv2D)           (None, 32, 128, 64)       640       \n",
            "_________________________________________________________________\n",
            "max_pooling2d_3 (MaxPooling2 (None, 16, 64, 64)        0         \n",
            "_________________________________________________________________\n",
            "conv2d_11 (Conv2D)           (None, 16, 64, 128)       73856     \n",
            "_________________________________________________________________\n",
            "max_pooling2d_4 (MaxPooling2 (None, 8, 32, 128)        0         \n",
            "_________________________________________________________________\n",
            "conv2d_12 (Conv2D)           (None, 8, 32, 256)        295168    \n",
            "_________________________________________________________________\n",
            "conv2d_13 (Conv2D)           (None, 8, 32, 256)        590080    \n",
            "_________________________________________________________________\n",
            "max_pooling2d_5 (MaxPooling2 (None, 4, 32, 256)        0         \n",
            "_________________________________________________________________\n",
            "conv2d_14 (Conv2D)           (None, 4, 32, 512)        1180160   \n",
            "_________________________________________________________________\n",
            "batch_normalization_1 (Batch (None, 4, 32, 512)        2048      \n",
            "_________________________________________________________________\n",
            "conv2d_15 (Conv2D)           (None, 4, 32, 512)        2359808   \n",
            "_________________________________________________________________\n",
            "batch_normalization_2 (Batch (None, 4, 32, 512)        2048      \n",
            "_________________________________________________________________\n",
            "max_pooling2d_6 (MaxPooling2 (None, 2, 32, 512)        0         \n",
            "_________________________________________________________________\n",
            "conv2d_16 (Conv2D)           (None, 1, 31, 512)        1049088   \n",
            "_________________________________________________________________\n",
            "lambda_1 (Lambda)            (None, 31, 512)           0         \n",
            "_________________________________________________________________\n",
            "bidirectional_1 (Bidirection (None, 31, 256)           656384    \n",
            "_________________________________________________________________\n",
            "bidirectional_2 (Bidirection (None, 31, 256)           394240    \n",
            "_________________________________________________________________\n",
            "dense_1 (Dense)              (None, 31, 63)            16191     \n",
            "=================================================================\n",
            "Total params: 6,619,711\n",
            "Trainable params: 6,617,663\n",
            "Non-trainable params: 2,048\n",
            "_________________________________________________________________\n"
          ],
          "name": "stdout"
        }
      ]
    },
    {
      "cell_type": "markdown",
      "metadata": {
        "id": "dbNPzexduQdH",
        "colab_type": "text"
      },
      "source": [
        "### Loss Function"
      ]
    },
    {
      "cell_type": "markdown",
      "metadata": {
        "id": "vKCxvTfluQdI",
        "colab_type": "text"
      },
      "source": [
        "CTC Details: (https://theailearner.com/2019/05/29/connectionist-temporal-classificationctc/)."
      ]
    },
    {
      "cell_type": "code",
      "metadata": {
        "id": "QRy_1ut8uQdJ",
        "colab_type": "code",
        "colab": {}
      },
      "source": [
        "labels = Input(name='the_labels', shape=[max_label_len], dtype='float32')\n",
        "input_length = Input(name='input_length', shape=[1], dtype='int64')\n",
        "label_length = Input(name='label_length', shape=[1], dtype='int64')\n",
        " \n",
        "def ctc_lambda_func(args):\n",
        "    y_pred, labels, input_length, label_length = args\n",
        " \n",
        "    return K.ctc_batch_cost(labels, y_pred, input_length, label_length)\n",
        " \n",
        "loss_out = Lambda(ctc_lambda_func, output_shape=(1,), name='ctc')([outputs, labels, input_length, label_length])\n",
        "\n",
        "#model to be used at training time\n",
        "model = Model(inputs=[inputs, labels, input_length, label_length], outputs=loss_out)"
      ],
      "execution_count": 0,
      "outputs": []
    },
    {
      "cell_type": "markdown",
      "metadata": {
        "id": "uaQpfg-iuQdL",
        "colab_type": "text"
      },
      "source": [
        "### train the Model"
      ]
    },
    {
      "cell_type": "code",
      "metadata": {
        "id": "DNFWj6lfuQdM",
        "colab_type": "code",
        "colab": {}
      },
      "source": [
        "model.compile(loss={'ctc': lambda y_true, y_pred: y_pred}, optimizer = 'adam')\n",
        " \n",
        "# this is a keras functionality, after each epoch if we find the current model \n",
        "# has the lowest loss so far, we will save the model\n",
        "filepath=\"best_model.hdf5\"\n",
        "checkpoint = ModelCheckpoint(filepath=filepath, monitor='val_loss', verbose=1, save_best_only=True, mode='auto')\n",
        "callbacks_list = [checkpoint]"
      ],
      "execution_count": 0,
      "outputs": []
    },
    {
      "cell_type": "code",
      "metadata": {
        "id": "Gwx0i3sQybiK",
        "colab_type": "code",
        "colab": {}
      },
      "source": [
        ""
      ],
      "execution_count": 0,
      "outputs": []
    },
    {
      "cell_type": "code",
      "metadata": {
        "id": "07E4Pbn1uQdN",
        "colab_type": "code",
        "colab": {}
      },
      "source": [
        "# convert list to np array\n",
        "train_x = np.array(train_x)\n",
        "train_x_len = np.array(train_x_len)\n",
        "train_y_len = np.array(train_y_len)\n",
        "\n",
        "val_x = np.array(val_x)\n",
        "val_x_len = np.array(val_x_len)\n",
        "val_y_len = np.array(val_y_len)"
      ],
      "execution_count": 0,
      "outputs": []
    },
    {
      "cell_type": "code",
      "metadata": {
        "id": "7FaAXakPuQdP",
        "colab_type": "code",
        "outputId": "97ce5d97-f9a8-48a1-b7c2-fde6c9868028",
        "colab": {
          "base_uri": "https://localhost:8080/",
          "height": 731
        }
      },
      "source": [
        "batch_size = 256\n",
        "epochs = 10\n",
        "# actually start the training\n",
        "model.fit(x=[train_x, train_padded_y, train_x_len, train_y_len], y=np.zeros(len(train_x)), batch_size=batch_size, epochs = epochs, validation_data = ([val_x, val_padded_y, val_x_len, val_y_len], [np.zeros(len(val_x))]), verbose = 1, callbacks = callbacks_list)"
      ],
      "execution_count": 27,
      "outputs": [
        {
          "output_type": "stream",
          "text": [
            "Train on 2878 samples, validate on 323 samples\n",
            "Epoch 1/10\n",
            "2878/2878 [==============================] - 24s 8ms/step - loss: 43.5906 - val_loss: 31.2690\n",
            "\n",
            "Epoch 00001: val_loss improved from inf to 31.26899, saving model to best_model.hdf5\n",
            "Epoch 2/10\n",
            "2878/2878 [==============================] - 10s 3ms/step - loss: 31.8967 - val_loss: 30.8036\n",
            "\n",
            "Epoch 00002: val_loss improved from 31.26899 to 30.80361, saving model to best_model.hdf5\n",
            "Epoch 3/10\n",
            "2878/2878 [==============================] - 10s 3ms/step - loss: 31.4903 - val_loss: 30.6368\n",
            "\n",
            "Epoch 00003: val_loss improved from 30.80361 to 30.63685, saving model to best_model.hdf5\n",
            "Epoch 4/10\n",
            "2878/2878 [==============================] - 10s 3ms/step - loss: 31.2667 - val_loss: 30.3959\n",
            "\n",
            "Epoch 00004: val_loss improved from 30.63685 to 30.39592, saving model to best_model.hdf5\n",
            "Epoch 5/10\n",
            "2878/2878 [==============================] - 10s 3ms/step - loss: 31.0680 - val_loss: 30.1895\n",
            "\n",
            "Epoch 00005: val_loss improved from 30.39592 to 30.18946, saving model to best_model.hdf5\n",
            "Epoch 6/10\n",
            "2878/2878 [==============================] - 10s 3ms/step - loss: 30.9053 - val_loss: 30.0398\n",
            "\n",
            "Epoch 00006: val_loss improved from 30.18946 to 30.03982, saving model to best_model.hdf5\n",
            "Epoch 7/10\n",
            "2878/2878 [==============================] - 10s 3ms/step - loss: 30.7766 - val_loss: 29.9733\n",
            "\n",
            "Epoch 00007: val_loss improved from 30.03982 to 29.97332, saving model to best_model.hdf5\n",
            "Epoch 8/10\n",
            "2878/2878 [==============================] - 10s 3ms/step - loss: 30.6688 - val_loss: 29.8720\n",
            "\n",
            "Epoch 00008: val_loss improved from 29.97332 to 29.87195, saving model to best_model.hdf5\n",
            "Epoch 9/10\n",
            "2878/2878 [==============================] - 10s 3ms/step - loss: 30.5582 - val_loss: 29.7661\n",
            "\n",
            "Epoch 00009: val_loss improved from 29.87195 to 29.76615, saving model to best_model.hdf5\n",
            "Epoch 10/10\n",
            "2878/2878 [==============================] - 10s 3ms/step - loss: 30.4471 - val_loss: 29.8823\n",
            "\n",
            "Epoch 00010: val_loss did not improve from 29.76615\n"
          ],
          "name": "stdout"
        },
        {
          "output_type": "execute_result",
          "data": {
            "text/plain": [
              "<keras.callbacks.History at 0x7fabccf89978>"
            ]
          },
          "metadata": {
            "tags": []
          },
          "execution_count": 27
        }
      ]
    },
    {
      "cell_type": "markdown",
      "metadata": {
        "id": "YRYeN6RDuQdT",
        "colab_type": "text"
      },
      "source": [
        "### Test the Model"
      ]
    },
    {
      "cell_type": "code",
      "metadata": {
        "id": "lZL3d7XEuQdU",
        "colab_type": "code",
        "outputId": "e1118851-c749-4186-cea4-da89e3032691",
        "colab": {
          "base_uri": "https://localhost:8080/",
          "height": 527
        }
      },
      "source": [
        "# load the saved best model weights\n",
        "act_model.load_weights('best_model.hdf5')\n",
        " \n",
        "# predict outputs on validation images\n",
        "prediction = act_model.predict(val_x[:10])\n",
        " \n",
        "# use CTC decoder\n",
        "out = K.get_value(K.ctc_decode(prediction, input_length=np.ones(prediction.shape[0])*prediction.shape[1],\n",
        "                         greedy=True)[0][0])\n",
        "\n",
        "# see the results\n",
        "i = 0\n",
        "for x in out:\n",
        "    print(\"original_text =  \", val_orig_y[i])\n",
        "    print(\"predicted text = \", end = '')\n",
        "    for p in x:  \n",
        "        if int(p) != -1:\n",
        "            print(char_list[int(p)], end = '')       \n",
        "    print('\\n')\n",
        "    i+=1"
      ],
      "execution_count": 29,
      "outputs": [
        {
          "output_type": "stream",
          "text": [
            "original_text =   Incas\n",
            "predicted text = \n",
            "\n",
            "original_text =   Sufficing\n",
            "predicted text = \n",
            "\n",
            "original_text =   PETIT\n",
            "predicted text = \n",
            "\n",
            "original_text =   contagious\n",
            "predicted text = \n",
            "\n",
            "original_text =   MORRIS\n",
            "predicted text = \n",
            "\n",
            "original_text =   Fathead\n",
            "predicted text = \n",
            "\n",
            "original_text =   Lollies\n",
            "predicted text = \n",
            "\n",
            "original_text =   staider\n",
            "predicted text = \n",
            "\n",
            "original_text =   Puss\n",
            "predicted text = \n",
            "\n",
            "original_text =   Oars\n",
            "predicted text = \n",
            "\n"
          ],
          "name": "stdout"
        }
      ]
    },
    {
      "cell_type": "code",
      "metadata": {
        "id": "9zDmeF7ruQdX",
        "colab_type": "code",
        "colab": {}
      },
      "source": [
        ""
      ],
      "execution_count": 0,
      "outputs": []
    }
  ]
}