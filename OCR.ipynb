{
  "nbformat": 4,
  "nbformat_minor": 0,
  "metadata": {
    "colab": {
      "name": "OCR.ipynb",
      "version": "0.3.2",
      "provenance": [],
      "collapsed_sections": [
        "9OHEzwXIvmCL",
        "YRYeN6RDuQdT"
      ],
      "include_colab_link": true
    },
    "language_info": {
      "codemirror_mode": {
        "name": "ipython",
        "version": 3
      },
      "file_extension": ".py",
      "mimetype": "text/x-python",
      "name": "python",
      "nbconvert_exporter": "python",
      "pygments_lexer": "ipython3",
      "version": "3.6.8"
    },
    "kernelspec": {
      "name": "python3",
      "display_name": "Python 3"
    },
    "accelerator": "GPU"
  },
  "cells": [
    {
      "cell_type": "markdown",
      "metadata": {
        "id": "view-in-github",
        "colab_type": "text"
      },
      "source": [
        "<a href=\"https://colab.research.google.com/github/c3qian/Hello-Chao/blob/master/OCR.ipynb\" target=\"_parent\"><img src=\"https://colab.research.google.com/assets/colab-badge.svg\" alt=\"Open In Colab\"/></a>"
      ]
    },
    {
      "cell_type": "markdown",
      "metadata": {
        "code_folding": [],
        "id": "XFfgMJlPuQcn",
        "colab_type": "text"
      },
      "source": [
        "# Convolutional Recurrent Neural Network (CRNN) for OCR\n"
      ]
    },
    {
      "cell_type": "markdown",
      "metadata": {
        "id": "9JgNYfx7uQcq",
        "colab_type": "text"
      },
      "source": [
        "Steps for OCR:\n",
        "\n",
        "1. Preprocessing Data\n",
        "2. Creating Network Architecture(CTC loss function)\n",
        "3. Training Model\n",
        "4. Test Model"
      ]
    },
    {
      "cell_type": "markdown",
      "metadata": {
        "id": "9OHEzwXIvmCL",
        "colab_type": "text"
      },
      "source": [
        "###Import"
      ]
    },
    {
      "cell_type": "code",
      "metadata": {
        "id": "hHgFIw1auQcr",
        "colab_type": "code",
        "colab": {}
      },
      "source": [
        "import os\n",
        "import fnmatch\n",
        "import cv2\n",
        "import numpy as np\n",
        "import string\n",
        "import time\n",
        "\n",
        "from keras.preprocessing.sequence import pad_sequences\n",
        "\n",
        "from keras.layers import Dense, LSTM, Reshape, BatchNormalization, Input, Conv2D, MaxPool2D, Lambda, Bidirectional\n",
        "from keras.models import Model\n",
        "from keras.activations import relu, sigmoid, softmax\n",
        "import keras.backend as K\n",
        "from keras.utils import to_categorical\n",
        "from keras.callbacks import ModelCheckpoint\n",
        "import tensorflow as tf\n",
        "\n",
        "#ignore warnings in the output\n",
        "tf.logging.set_verbosity(tf.logging.ERROR)\n",
        "from tensorflow.python.client import device_lib\n",
        "\n",
        "# Check all available devices if GPU is available\n",
        "print(device_lib.list_local_devices())\n",
        "sess = tf.Session(config=tf.ConfigProto(log_device_placement=True))\n",
        "\n",
        "from glob import glob\n",
        " \n",
        "import matplotlib.pyplot as plt "
      ],
      "execution_count": 0,
      "outputs": []
    },
    {
      "cell_type": "markdown",
      "metadata": {
        "id": "-cpr242KuQc3",
        "colab_type": "text"
      },
      "source": [
        "### Preprocessing"
      ]
    },
    {
      "cell_type": "markdown",
      "metadata": {
        "id": "N9JmCRIVuQc6",
        "colab_type": "text"
      },
      "source": [
        "1. Download and unzip the dataset into a folder\n",
        "2. Preprocess the data: both inputs and outputs\n",
        "\n",
        "Input:\n",
        "\n",
        "*   Read the images and convert them into gray-scale images(why?)\n",
        "*   Reshape each image to size (128,32) (why?)\n",
        "*   Expand the dimension of the image from (128,32) to (128,32,1) (why?)\n",
        "*   Normalize the image pixel values by dividing it with 255\n",
        "\n",
        "Output:\n",
        "\n",
        "*   Read the image file names as the labels of that image\n",
        "*   Encode word into digits using a map (‘a’:0, ‘b’:1 …….. ‘z’:26 ......) e.g.  \"aabb\" -> [0,0,1,1]\n",
        "*   Find the maximum length among all words and pad every label to be the same size(max size) \n",
        "\n"
      ]
    },
    {
      "cell_type": "code",
      "metadata": {
        "id": "xtJTiEllx815",
        "colab_type": "code",
        "colab": {}
      },
      "source": [
        "!wget https://transfer.sh/ZHMV4/dataset.zip\n",
        "!unzip dataset.zip\n"
      ],
      "execution_count": 0,
      "outputs": []
    },
    {
      "cell_type": "code",
      "metadata": {
        "id": "djKsVr35uQc8",
        "colab_type": "code",
        "colab": {}
      },
      "source": [
        "path = 'dataset/'\n",
        " \n",
        "#lists for training dataset\n",
        "train_x = []\n",
        "train_y = []\n",
        "train_x_len = []\n",
        "train_y_len = []\n",
        "orig_y = []\n",
        " \n",
        "#lists for validation dataset\n",
        "val_x = []\n",
        "val_y = []\n",
        "val_x_len = []\n",
        "val_y_len = []\n",
        "val_orig_y = []\n",
        " \n",
        "max_label_len = 0\n",
        " \n",
        "flag = 0\n",
        " \n",
        "for i, f_name in enumerate(glob(os.path.join(path,'*/*.jpg'))):\n",
        "    # read input image and convert into gray scale image\n",
        "    img = ?\n",
        "\n",
        "    # convert each image of shape (32, 128, 1)\n",
        "    # hint: cv2.resize, np.expand_dims\n",
        "    img = ?\n",
        "\n",
        "    # Normalize each image\n",
        "    img = ?\n",
        "\n",
        "    # get the text from the image\n",
        "    txt = os.path.basename(f_name).split('_')[1]\n",
        "\n",
        "    # compute maximum length of the text\n",
        "    if len(txt) > max_label_len:\n",
        "        max_label_len = len(txt)\n",
        "\n",
        "\n",
        "    # split the data into validation and training dataset as 1:9\n",
        "    if ?:     \n",
        "        val_x.append(img)\n",
        "        val_y.append(encode_to_labels(txt))\n",
        "        val_x_len.append(31)\n",
        "        val_y_len.append(len(txt))\n",
        "        val_orig_y.append(txt)  \n",
        "    else:\n",
        "        train_x.append(img)\n",
        "        train_y.append(encode_to_labels(txt)) \n",
        "        train_x_len.append(31)\n",
        "        train_y_len.append(len(txt))\n",
        "        orig_y.append(txt)\n"
      ],
      "execution_count": 0,
      "outputs": []
    },
    {
      "cell_type": "code",
      "metadata": {
        "id": "BhqOzYAS5Jhp",
        "colab_type": "code",
        "outputId": "762dd486-3b88-4c6e-bb3a-3a06c78a5b38",
        "colab": {
          "base_uri": "https://localhost:8080/",
          "height": 203
        }
      },
      "source": [
        "# Check your preprocessing results\n",
        "print('Number of training data:',len(train_x))\n",
        "print('Number of validation data:',len(val_x))\n",
        "\n",
        "plt.imshow(train_x[0][:,:,0], cmap='gray')\n",
        "print('Label value: ',train_y[0])\n",
        "print('Raw Label value: ', orig_y[0])"
      ],
      "execution_count": 0,
      "outputs": [
        {
          "output_type": "stream",
          "text": [
            "number of training data: 2881\n",
            "number of validation data: 320\n",
            "Label value:  [38, 0, 17, 0, 1, 14, 20, 19]\n",
            "Raw Label value:  Marabout\n"
          ],
          "name": "stdout"
        },
        {
          "output_type": "display_data",
          "data": {
            "image/png": "[encoded data removed]",
            "text/plain": [
              "<Figure size 432x288 with 1 Axes>"
            ]
          },
          "metadata": {
            "tags": []
          }
        }
      ]
    },
    {
      "cell_type": "code",
      "metadata": {
        "id": "hwvHPaE4uQc_",
        "colab_type": "code",
        "outputId": "78328825-9de9-4e41-b3c8-1b9ea62dda3f",
        "colab": {
          "base_uri": "https://localhost:8080/",
          "height": 51
        }
      },
      "source": [
        "# char_list:   'abcdefghijklmnopqrstuvwxyzABCDEFGHIJKLMNOPQRSTUVWXYZ0123456789'\n",
        "char_list = string.ascii_letters+string.digits\n",
        "print('char_list:',char_list)\n",
        "print('total length:', len(char_list))\n",
        " \n",
        "# every word is encoded as a list of digits\n",
        "# the digit for each character is represented by the index\n",
        "# e.g. aabb -> [0,0,1,1], index of a is 0, index of b is 1\n",
        "\n",
        "def encode_to_labels(txt):\n",
        "    # encoding each output word into digits\n",
        "    dig_lst = []\n",
        "    ?\n",
        "    return dig_lst\n",
        "  \n",
        "# pad each output label to maximum text length\n",
        "# use \"post\" padding\n",
        "# this is not zero padding, we want to pad a specific value: len(char_list)\n",
        " \n",
        "train_padded_y = pad_sequences(?)\n",
        "val_padded_y = pad_sequences(?)"
      ],
      "execution_count": 0,
      "outputs": [
        {
          "output_type": "stream",
          "text": [
            "char_list: abcdefghijklmnopqrstuvwxyzABCDEFGHIJKLMNOPQRSTUVWXYZ0123456789\n",
            "total length: 62\n"
          ],
          "name": "stdout"
        }
      ]
    },
    {
      "cell_type": "markdown",
      "metadata": {
        "id": "HpY-hAJ0uQdB",
        "colab_type": "text"
      },
      "source": [
        "### Network Archtecture"
      ]
    },
    {
      "cell_type": "markdown",
      "metadata": {
        "id": "DnqtDrhSuQdC",
        "colab_type": "text"
      },
      "source": [
        "Paper link: (https://arxiv.org/pdf/1507.05717.pdf)\n",
        "\n",
        "1. Input shape (32,128,1)\n",
        "2. Use CNN to produce feature map\n",
        "5. Make feature map compatible with LSTM layer.\n",
        "6. Use two Bidirectional LSTM layers each of which has 128 units. "
      ]
    },
    {
      "cell_type": "code",
      "metadata": {
        "id": "fYNY8LTFuQdD",
        "colab_type": "code",
        "colab": {}
      },
      "source": [
        "# input with shape of height=32 and width=128 \n",
        "inputs = Input(?)\n",
        " \n",
        "# Conv2D: 64 filters, (3,3) kernels, rectified unit, use \"same\" padding\n",
        "# Pooling: (2,2) size, stride 2\n",
        "conv_1 = ?\n",
        "pool_1 = ?\n",
        " \n",
        "conv_2 = Conv2D(128, (3,3), activation = 'relu', padding='same')(pool_1)\n",
        "pool_2 = MaxPool2D(pool_size=(2, 2), strides=2)(conv_2)\n",
        " \n",
        "conv_3 = Conv2D(256, (3,3), activation = 'relu', padding='same')(pool_2)\n",
        " \n",
        "conv_4 = Conv2D(256, (3,3), activation = 'relu', padding='same')(conv_3)\n",
        "pool_4 = MaxPool2D(pool_size=(2, 1))(conv_4)\n",
        " \n",
        "conv_5 = Conv2D(512, (3,3), activation = 'relu', padding='same')(pool_4)\n",
        "# Batch normalization layer, \n",
        "# blog: https://towardsdatascience.com/batch-normalization-in-neural-networks-1ac91516821c\n",
        "batch_norm_5 = BatchNormalization()(conv_5)\n",
        " \n",
        "conv_6 = Conv2D(512, (3,3), activation = 'relu', padding='same')(batch_norm_5)\n",
        "batch_norm_6 = BatchNormalization()(conv_6)\n",
        "pool_6 = MaxPool2D(pool_size=(2, 1))(batch_norm_6)\n",
        " \n",
        "conv_7 = Conv2D(512, (2,2), activation = 'relu')(pool_6)\n",
        " \n",
        "# reduce the dimension\n",
        "squeezed = Lambda(lambda x: K.squeeze(x, 1))(conv_7)\n",
        " \n",
        "# bidirectional LSTM layers with units=128\n",
        "# we want to return sequences, not the last output\n",
        "# use dropout 0.2\n",
        "blstm_1 = Bidirectional(LSTM(?))(squeezed)\n",
        "blstm_2 = Bidirectional(LSTM(?))(blstm_1)\n",
        " \n",
        "# our final output has [len(char_list)+1] classes\n",
        "# we need to use softmax as the activation function\n",
        "outputs = Dense(?)(blstm_2)\n",
        "\n",
        "# model to be used at test time\n",
        "act_model = Model(inputs, outputs)"
      ],
      "execution_count": 0,
      "outputs": []
    },
    {
      "cell_type": "code",
      "metadata": {
        "id": "y8o6GBZjuQdF",
        "colab_type": "code",
        "outputId": "96632a69-8701-4eab-cb49-248ffea5e4d4",
        "colab": {
          "base_uri": "https://localhost:8080/",
          "height": 748
        }
      },
      "source": [
        "\n",
        "act_model.summary()"
      ],
      "execution_count": 0,
      "outputs": [
        {
          "output_type": "stream",
          "text": [
            "_________________________________________________________________\n",
            "Layer (type)                 Output Shape              Param #   \n",
            "=================================================================\n",
            "input_4 (InputLayer)         (None, 32, 128, 1)        0         \n",
            "_________________________________________________________________\n",
            "conv2d_22 (Conv2D)           (None, 32, 128, 64)       640       \n",
            "_________________________________________________________________\n",
            "max_pooling2d_13 (MaxPooling (None, 16, 64, 64)        0         \n",
            "_________________________________________________________________\n",
            "conv2d_23 (Conv2D)           (None, 16, 64, 128)       73856     \n",
            "_________________________________________________________________\n",
            "max_pooling2d_14 (MaxPooling (None, 8, 32, 128)        0         \n",
            "_________________________________________________________________\n",
            "conv2d_24 (Conv2D)           (None, 8, 32, 256)        295168    \n",
            "_________________________________________________________________\n",
            "conv2d_25 (Conv2D)           (None, 8, 32, 256)        590080    \n",
            "_________________________________________________________________\n",
            "max_pooling2d_15 (MaxPooling (None, 4, 32, 256)        0         \n",
            "_________________________________________________________________\n",
            "conv2d_26 (Conv2D)           (None, 4, 32, 512)        1180160   \n",
            "_________________________________________________________________\n",
            "batch_normalization_7 (Batch (None, 4, 32, 512)        2048      \n",
            "_________________________________________________________________\n",
            "conv2d_27 (Conv2D)           (None, 4, 32, 512)        2359808   \n",
            "_________________________________________________________________\n",
            "batch_normalization_8 (Batch (None, 4, 32, 512)        2048      \n",
            "_________________________________________________________________\n",
            "max_pooling2d_16 (MaxPooling (None, 2, 32, 512)        0         \n",
            "_________________________________________________________________\n",
            "conv2d_28 (Conv2D)           (None, 1, 31, 512)        1049088   \n",
            "_________________________________________________________________\n",
            "lambda_4 (Lambda)            (None, 31, 512)           0         \n",
            "_________________________________________________________________\n",
            "bidirectional_7 (Bidirection (None, 31, 256)           656384    \n",
            "_________________________________________________________________\n",
            "bidirectional_8 (Bidirection (None, 31, 256)           394240    \n",
            "_________________________________________________________________\n",
            "dense_4 (Dense)              (None, 31, 63)            16191     \n",
            "=================================================================\n",
            "Total params: 6,619,711\n",
            "Trainable params: 6,617,663\n",
            "Non-trainable params: 2,048\n",
            "_________________________________________________________________\n"
          ],
          "name": "stdout"
        }
      ]
    },
    {
      "cell_type": "markdown",
      "metadata": {
        "id": "dbNPzexduQdH",
        "colab_type": "text"
      },
      "source": [
        "### Loss Function"
      ]
    },
    {
      "cell_type": "markdown",
      "metadata": {
        "id": "vKCxvTfluQdI",
        "colab_type": "text"
      },
      "source": [
        "CTC Details: (https://theailearner.com/2019/05/29/connectionist-temporal-classificationctc/)."
      ]
    },
    {
      "cell_type": "code",
      "metadata": {
        "id": "QRy_1ut8uQdJ",
        "colab_type": "code",
        "colab": {}
      },
      "source": [
        "labels = Input(name='the_labels', shape=[max_label_len], dtype='float32')\n",
        "input_length = Input(name='input_length', shape=[1], dtype='int64')\n",
        "label_length = Input(name='label_length', shape=[1], dtype='int64')\n",
        " \n",
        "def ctc_lambda_func(args):\n",
        "    y_pred, labels, input_length, label_length = args\n",
        " \n",
        "    return K.ctc_batch_cost(labels, y_pred, input_length, label_length)\n",
        " \n",
        "loss_out = Lambda(ctc_lambda_func, output_shape=(1,), name='ctc')([outputs, labels, input_length, label_length])\n",
        "\n",
        "#model to be used at training time\n",
        "model = Model(inputs=[inputs, labels, input_length, label_length], outputs=loss_out)"
      ],
      "execution_count": 0,
      "outputs": []
    },
    {
      "cell_type": "markdown",
      "metadata": {
        "id": "uaQpfg-iuQdL",
        "colab_type": "text"
      },
      "source": [
        "### train the Model"
      ]
    },
    {
      "cell_type": "code",
      "metadata": {
        "id": "DNFWj6lfuQdM",
        "colab_type": "code",
        "colab": {}
      },
      "source": [
        "model.compile(loss={'ctc': lambda y_true, y_pred: y_pred}, optimizer = 'adam')\n",
        " \n",
        "# this is a keras functionality, after each epoch if we find the current model \n",
        "# has the lowest loss so far, we will save the model\n",
        "filepath=\"best_model.hdf5\"\n",
        "checkpoint = ModelCheckpoint(filepath=filepath, monitor='val_loss', verbose=1, save_best_only=True, mode='auto')\n",
        "callbacks_list = [checkpoint]"
      ],
      "execution_count": 0,
      "outputs": []
    },
    {
      "cell_type": "code",
      "metadata": {
        "id": "07E4Pbn1uQdN",
        "colab_type": "code",
        "colab": {}
      },
      "source": [
        "# convert list to np array\n",
        "train_x = np.array(train_x)\n",
        "train_x_len = np.array(train_x_len)\n",
        "train_y_len = np.array(train_y_len)\n",
        "\n",
        "val_x = np.array(val_x)\n",
        "val_x_len = np.array(val_x_len)\n",
        "val_y_len = np.array(val_y_len)"
      ],
      "execution_count": 0,
      "outputs": []
    },
    {
      "cell_type": "code",
      "metadata": {
        "id": "7FaAXakPuQdP",
        "colab_type": "code",
        "outputId": "af2e7b75-be5b-4ac5-9379-50e65b25be2f",
        "colab": {
          "base_uri": "https://localhost:8080/",
          "height": 731
        }
      },
      "source": [
        "batch_size = 256\n",
        "epochs = 10\n",
        "# actually start the training\n",
        "model.fit(x=[train_x, train_padded_y, train_x_len, train_y_len], y=np.zeros(len(train_x)), batch_size=batch_size, epochs = epochs, validation_data = ([val_x, val_padded_y, val_x_len, val_y_len], [np.zeros(len(val_x))]), verbose = 1, callbacks = callbacks_list)"
      ],
      "execution_count": 0,
      "outputs": [
        {
          "output_type": "stream",
          "text": [
            "Train on 2881 samples, validate on 320 samples\n",
            "Epoch 1/10\n",
            "2881/2881 [==============================] - 9s 3ms/step - loss: 38.1213 - val_loss: 33.0928\n",
            "\n",
            "Epoch 00001: val_loss improved from inf to 33.09279, saving model to best_model.hdf5\n",
            "Epoch 2/10\n",
            "2881/2881 [==============================] - 5s 2ms/step - loss: 31.8746 - val_loss: 32.3515\n",
            "\n",
            "Epoch 00002: val_loss improved from 33.09279 to 32.35153, saving model to best_model.hdf5\n",
            "Epoch 3/10\n",
            "2881/2881 [==============================] - 5s 2ms/step - loss: 31.4135 - val_loss: 32.0724\n",
            "\n",
            "Epoch 00003: val_loss improved from 32.35153 to 32.07244, saving model to best_model.hdf5\n",
            "Epoch 4/10\n",
            "2881/2881 [==============================] - 5s 2ms/step - loss: 31.1873 - val_loss: 31.8871\n",
            "\n",
            "Epoch 00004: val_loss improved from 32.07244 to 31.88713, saving model to best_model.hdf5\n",
            "Epoch 5/10\n",
            "2881/2881 [==============================] - 5s 2ms/step - loss: 31.0068 - val_loss: 31.6960\n",
            "\n",
            "Epoch 00005: val_loss improved from 31.88713 to 31.69603, saving model to best_model.hdf5\n",
            "Epoch 6/10\n",
            "2881/2881 [==============================] - 5s 2ms/step - loss: 30.8670 - val_loss: 31.5679\n",
            "\n",
            "Epoch 00006: val_loss improved from 31.69603 to 31.56786, saving model to best_model.hdf5\n",
            "Epoch 7/10\n",
            "2881/2881 [==============================] - 5s 2ms/step - loss: 30.7500 - val_loss: 31.4827\n",
            "\n",
            "Epoch 00007: val_loss improved from 31.56786 to 31.48266, saving model to best_model.hdf5\n",
            "Epoch 8/10\n",
            "2881/2881 [==============================] - 5s 2ms/step - loss: 30.6577 - val_loss: 31.4498\n",
            "\n",
            "Epoch 00008: val_loss improved from 31.48266 to 31.44982, saving model to best_model.hdf5\n",
            "Epoch 9/10\n",
            "2881/2881 [==============================] - 5s 2ms/step - loss: 30.5709 - val_loss: 31.4793\n",
            "\n",
            "Epoch 00009: val_loss did not improve from 31.44982\n",
            "Epoch 10/10\n",
            "2881/2881 [==============================] - 5s 2ms/step - loss: 30.4630 - val_loss: 31.3679\n",
            "\n",
            "Epoch 00010: val_loss improved from 31.44982 to 31.36793, saving model to best_model.hdf5\n"
          ],
          "name": "stdout"
        },
        {
          "output_type": "execute_result",
          "data": {
            "text/plain": [
              "<keras.callbacks.History at 0x7f2def903e48>"
            ]
          },
          "metadata": {
            "tags": []
          },
          "execution_count": 64
        }
      ]
    },
    {
      "cell_type": "markdown",
      "metadata": {
        "id": "YRYeN6RDuQdT",
        "colab_type": "text"
      },
      "source": [
        "### Test the Model"
      ]
    },
    {
      "cell_type": "code",
      "metadata": {
        "id": "lZL3d7XEuQdU",
        "colab_type": "code",
        "outputId": "5a93fddc-dd11-4da5-d2ca-17b3ce90b45f",
        "colab": {
          "base_uri": "https://localhost:8080/",
          "height": 544
        }
      },
      "source": [
        "# load the saved best model weights\n",
        "act_model.load_weights('best_model.hdf5')\n",
        " \n",
        "# predict outputs on validation images\n",
        "prediction = act_model.predict(val_x[:10])\n",
        " \n",
        "# use CTC decoder\n",
        "out = K.get_value(K.ctc_decode(prediction, input_length=np.ones(prediction.shape[0])*prediction.shape[1],\n",
        "                         greedy=True)[0][0])\n",
        "\n",
        "# see the results\n",
        "i = 0\n",
        "for x in out:\n",
        "    print(\"original_text =  \", val_orig_y[i])\n",
        "    print(\"predicted text = \", end = '')\n",
        "    for p in x:  \n",
        "        if int(p) != -1:\n",
        "            print(char_list[int(p)], end = '')       \n",
        "    print('\\n')\n",
        "    i+=1"
      ],
      "execution_count": 0,
      "outputs": [
        {
          "output_type": "stream",
          "text": [
            "(10, 31, 63)\n",
            "original_text =   HONDURANS\n",
            "predicted text = \n",
            "\n",
            "original_text =   CONSULTANTS\n",
            "predicted text = \n",
            "\n",
            "original_text =   BLUCHER\n",
            "predicted text = \n",
            "\n",
            "original_text =   Skadden\n",
            "predicted text = \n",
            "\n",
            "original_text =   APULEIUS\n",
            "predicted text = \n",
            "\n",
            "original_text =   ambassadors\n",
            "predicted text = \n",
            "\n",
            "original_text =   THEREABOUT\n",
            "predicted text = \n",
            "\n",
            "original_text =   FARADIZING\n",
            "predicted text = \n",
            "\n",
            "original_text =   moralistic\n",
            "predicted text = \n",
            "\n",
            "original_text =   Managing\n",
            "predicted text = \n",
            "\n"
          ],
          "name": "stdout"
        }
      ]
    },
    {
      "cell_type": "code",
      "metadata": {
        "id": "9zDmeF7ruQdX",
        "colab_type": "code",
        "colab": {}
      },
      "source": [
        ""
      ],
      "execution_count": 0,
      "outputs": []
    }
  ]
}